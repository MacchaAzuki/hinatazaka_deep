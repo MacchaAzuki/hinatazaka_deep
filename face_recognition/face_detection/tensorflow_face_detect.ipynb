{
 "cells": [
  {
   "cell_type": "code",
   "execution_count": null,
   "metadata": {},
   "outputs": [],
   "source": [
    "import sys\n",
    "import time\n",
    "import numpy as np\n",
    "import tensorflow as tf\n",
    "import cv2\n",
    "import os\n",
    "import glob\n",
    "import shutil\n",
    "from IPython.display import clear_output\n",
    "\n",
    "from utils import label_map_util\n",
    "from utils import visualization_utils_color as vis_util\n",
    "from IPython.display import display, Image\n",
    "from joblib import Parallel, delayed\n",
    "\n",
    "from tensorflow_face_detector import TensoflowFaceDector"
   ]
  },
  {
   "cell_type": "code",
   "execution_count": null,
   "metadata": {},
   "outputs": [],
   "source": [
    "# Path to frozen detection graph. This is the actual model that is used for the object detection.\n",
    "PATH_TO_CKPT = './model/frozen_inference_graph_face.pb'\n",
    "\n",
    "# List of the strings that is used to add correct label for each box.\n",
    "PATH_TO_LABELS = './protos/face_label_map.pbtxt'\n",
    "\n",
    "NUM_CLASSES = 2"
   ]
  },
  {
   "cell_type": "code",
   "execution_count": null,
   "metadata": {},
   "outputs": [],
   "source": [
    "label_map = label_map_util.load_labelmap(PATH_TO_LABELS)\n",
    "categories = label_map_util.convert_label_map_to_categories(label_map, max_num_classes=NUM_CLASSES, use_display_name=True)\n",
    "category_index = label_map_util.create_category_index(categories)"
   ]
  },
  {
   "cell_type": "code",
   "execution_count": null,
   "metadata": {},
   "outputs": [],
   "source": [
    "def display_cv_image(image, format='.jpg'):\n",
    "    decoded_bytes = cv2.imencode(format, image)[1].tobytes()\n",
    "    display(Image(data=decoded_bytes))"
   ]
  },
  {
   "cell_type": "code",
   "execution_count": null,
   "metadata": {},
   "outputs": [],
   "source": [
    "def detect_n_faces_and_copyfile(imageFile):\n",
    "    image = cv2.imread(imageFile)\n",
    "    faceDetectImage = image.copy()\n",
    "    [h, w] = faceDetectImage.shape[:2]\n",
    "\n",
    "    (boxes, scores, classes, num_detections) = tDetector.run(faceDetectImage)\n",
    "\n",
    "    faceBoxes = vis_util.visualize_boxes_and_labels_on_image_array(\n",
    "        faceDetectImage,\n",
    "        np.squeeze(boxes),\n",
    "        np.squeeze(classes).astype(np.int32),\n",
    "        np.squeeze(scores),\n",
    "        category_index,\n",
    "        use_normalized_coordinates=True,\n",
    "        line_thickness=4)\n",
    "    \n",
    "    personCount = len(faceBoxes)\n",
    "    \n",
    "    if personCount == 0:\n",
    "        shutil.copyfile(imageFile, noPersonFolder + imageFile.split(\"\\\\\")[-1])\n",
    "    elif personCount == 1:\n",
    "        shutil.copyfile(imageFile, onlyFolder + imageFile.split(\"\\\\\")[-1])\n",
    "        saveFacePath = onlyFolderFace\n",
    "    elif personCount == 2:\n",
    "        shutil.copyfile(imageFile, twoShotFolder + imageFile.split(\"\\\\\")[-1])\n",
    "        saveFacePath = twoShotFolderFace\n",
    "    else:\n",
    "        shutil.copyfile(imageFile, overThreeFolder + imageFile.split(\"\\\\\")[-1])\n",
    "        saveFacePath = overThreeFolderFace\n",
    "        \n",
    "    imageHeight, imageWidth = image.shape[:2]\n",
    "        \n",
    "    for index, box in enumerate(faceBoxes):\n",
    "        ymin, xmin, ymax, xmax = box\n",
    "        (left, right, top, bottom) = (int(xmin * imageWidth), int(xmax * imageWidth), int(ymin * imageHeight), int(ymax * imageHeight))\n",
    "        \n",
    "        cropWidth = right - left\n",
    "        cropHeight = bottom - top\n",
    "        \n",
    "        if cropHeight > cropWidth:\n",
    "            diff  = (cropHeight - cropWidth) / 2\n",
    "            if int(left - diff) < 0 or int(right + diff) > imageWidth:\n",
    "                top = int(top + diff)\n",
    "                bottom = int(bottom - diff)\n",
    "            else:\n",
    "                left = int(left - diff)\n",
    "                right = int(right + diff)\n",
    "        else:\n",
    "            diff = (cropWidth - cropHeight) / 2\n",
    "            if int(top - diff) < 0 or int(bottom + diff) > imageHeight:\n",
    "                left = int(left + diff)\n",
    "                right = int(right - diff)\n",
    "            else:\n",
    "                top = int(top - diff)\n",
    "                bottom = int(bottom + diff)\n",
    "            \n",
    "        cv2.imwrite(saveFacePath + imageFile.split(\"\\\\\")[-1].split(\".\")[0] + \"_face_\" + str(index) + \".jpg\", image[top:bottom, left:right])"
   ]
  },
  {
   "cell_type": "code",
   "execution_count": null,
   "metadata": {},
   "outputs": [],
   "source": [
    "tDetector = TensoflowFaceDector(PATH_TO_CKPT)"
   ]
  },
  {
   "cell_type": "code",
   "execution_count": null,
   "metadata": {},
   "outputs": [],
   "source": [
    "originFolderPath = \"../images/origin/\"\n",
    "saveFolderPath = \"../images/classification/\""
   ]
  },
  {
   "cell_type": "code",
   "execution_count": null,
   "metadata": {},
   "outputs": [],
   "source": [
    "for memberName in os.listdir(originFolderPath):\n",
    "\n",
    "    # 必要なフォルダを作成\n",
    "    onlyFolder = saveFolderPath + memberName + \"/1_only/\"\n",
    "    twoShotFolder = saveFolderPath + memberName + \"/2_shot/\"\n",
    "    overThreeFolder = saveFolderPath + memberName + \"/3_over/\"\n",
    "    noPersonFolder = saveFolderPath + memberName + \"/others/\"\n",
    "    onlyFolderFace = saveFolderPath + memberName + \"/face/1_only/\"\n",
    "    twoShotFolderFace = saveFolderPath + memberName + \"/face/2_shot/\"\n",
    "    overThreeFolderFace = saveFolderPath + memberName + \"/face/3_over/\"\n",
    "    os.makedirs(onlyFolder, exist_ok=True)\n",
    "    os.makedirs(twoShotFolder, exist_ok=True)\n",
    "    os.makedirs(overThreeFolder, exist_ok=True)\n",
    "    os.makedirs(noPersonFolder, exist_ok=True)\n",
    "    os.makedirs(onlyFolderFace, exist_ok=True)\n",
    "    os.makedirs(twoShotFolderFace, exist_ok=True)\n",
    "    os.makedirs(overThreeFolderFace, exist_ok=True)\n",
    "    \n",
    "    fileList = glob.glob(originFolderPath + memberName + \"/*\")\n",
    "    \n",
    "    for imageFile in fileList:\n",
    "        detect_n_faces_and_copyfile(imageFile)"
   ]
  }
 ],
 "metadata": {
  "kernelspec": {
   "display_name": "Python 3",
   "language": "python",
   "name": "python3"
  },
  "language_info": {
   "codemirror_mode": {
    "name": "ipython",
    "version": 3
   },
   "file_extension": ".py",
   "mimetype": "text/x-python",
   "name": "python",
   "nbconvert_exporter": "python",
   "pygments_lexer": "ipython3",
   "version": "3.7.1"
  },
  "toc": {
   "base_numbering": 1,
   "nav_menu": {},
   "number_sections": true,
   "sideBar": true,
   "skip_h1_title": false,
   "title_cell": "Table of Contents",
   "title_sidebar": "Contents",
   "toc_cell": false,
   "toc_position": {},
   "toc_section_display": true,
   "toc_window_display": false
  },
  "widgets": {
   "state": {},
   "version": "1.1.2"
  }
 },
 "nbformat": 4,
 "nbformat_minor": 2
}
