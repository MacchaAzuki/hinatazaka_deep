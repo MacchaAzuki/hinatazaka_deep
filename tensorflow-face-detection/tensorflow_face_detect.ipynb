{
 "cells": [
  {
   "cell_type": "code",
   "execution_count": 1,
   "metadata": {},
   "outputs": [],
   "source": [
    "import sys\n",
    "import time\n",
    "import numpy as np\n",
    "import tensorflow as tf\n",
    "import cv2\n",
    "import os\n",
    "import glob\n",
    "import shutil\n",
    "from IPython.display import clear_output\n",
    "\n",
    "from utils import label_map_util\n",
    "from utils import visualization_utils_color as vis_util\n",
    "from IPython.display import display, Image\n",
    "from joblib import Parallel, delayed"
   ]
  },
  {
   "cell_type": "code",
   "execution_count": 2,
   "metadata": {},
   "outputs": [],
   "source": [
    "# Path to frozen detection graph. This is the actual model that is used for the object detection.\n",
    "PATH_TO_CKPT = './model/frozen_inference_graph_face.pb'\n",
    "\n",
    "# List of the strings that is used to add correct label for each box.\n",
    "PATH_TO_LABELS = './protos/face_label_map.pbtxt'\n",
    "\n",
    "NUM_CLASSES = 2"
   ]
  },
  {
   "cell_type": "code",
   "execution_count": 3,
   "metadata": {},
   "outputs": [],
   "source": [
    "label_map = label_map_util.load_labelmap(PATH_TO_LABELS)\n",
    "categories = label_map_util.convert_label_map_to_categories(label_map, max_num_classes=NUM_CLASSES, use_display_name=True)\n",
    "category_index = label_map_util.create_category_index(categories)"
   ]
  },
  {
   "cell_type": "code",
   "execution_count": 4,
   "metadata": {},
   "outputs": [],
   "source": [
    "def display_cv_image(image, format='.jpg'):\n",
    "    decoded_bytes = cv2.imencode(format, image)[1].tobytes()\n",
    "    display(Image(data=decoded_bytes))"
   ]
  },
  {
   "cell_type": "code",
   "execution_count": 5,
   "metadata": {},
   "outputs": [],
   "source": [
    "class TensoflowFaceDector(object):\n",
    "    def __init__(self, PATH_TO_CKPT):\n",
    "        \"\"\"Tensorflow detector\n",
    "        \"\"\"\n",
    "\n",
    "        self.detection_graph = tf.Graph()\n",
    "        with self.detection_graph.as_default():\n",
    "            od_graph_def = tf.GraphDef()\n",
    "            with tf.gfile.GFile(PATH_TO_CKPT, 'rb') as fid:\n",
    "                serialized_graph = fid.read()\n",
    "                od_graph_def.ParseFromString(serialized_graph)\n",
    "                tf.import_graph_def(od_graph_def, name='')\n",
    "\n",
    "\n",
    "        with self.detection_graph.as_default():\n",
    "            config = tf.ConfigProto()\n",
    "            config.gpu_options.allow_growth = True\n",
    "            self.sess = tf.Session(graph=self.detection_graph, config=config)\n",
    "            self.windowNotSet = True\n",
    "\n",
    "\n",
    "    def run(self, image):\n",
    "        \"\"\"image: bgr image\n",
    "        return (boxes, scores, classes, num_detections)\n",
    "        \"\"\"\n",
    "\n",
    "        image_np = cv2.cvtColor(image, cv2.COLOR_BGR2RGB)\n",
    "\n",
    "        # the array based representation of the image will be used later in order to prepare the\n",
    "        # result image with boxes and labels on it.\n",
    "        # Expand dimensions since the model expects images to have shape: [1, None, None, 3]\n",
    "        image_np_expanded = np.expand_dims(image_np, axis=0)\n",
    "        image_tensor = self.detection_graph.get_tensor_by_name('image_tensor:0')\n",
    "        # Each box represents a part of the image where a particular object was detected.\n",
    "        boxes = self.detection_graph.get_tensor_by_name('detection_boxes:0')\n",
    "        # Each score represent how level of confidence for each of the objects.\n",
    "        # Score is shown on the result image, together with the class label.\n",
    "        scores = self.detection_graph.get_tensor_by_name('detection_scores:0')\n",
    "        classes = self.detection_graph.get_tensor_by_name('detection_classes:0')\n",
    "        num_detections = self.detection_graph.get_tensor_by_name('num_detections:0')\n",
    "        # Actual detection.\n",
    "        (boxes, scores, classes, num_detections) = self.sess.run(\n",
    "            [boxes, scores, classes, num_detections],\n",
    "            feed_dict={image_tensor: image_np_expanded})\n",
    "    \n",
    "        return (boxes, scores, classes, num_detections)"
   ]
  },
  {
   "cell_type": "code",
   "execution_count": 6,
   "metadata": {},
   "outputs": [],
   "source": [
    "def detect_n_faces_and_copyfile(imageFile):\n",
    "    image = cv2.imread(imageFile)\n",
    "    faceDetectImage = image.copy()\n",
    "    [h, w] = faceDetectImage.shape[:2]\n",
    "\n",
    "    (boxes, scores, classes, num_detections) = tDetector.run(faceDetectImage)\n",
    "\n",
    "    faceBoxes = vis_util.visualize_boxes_and_labels_on_image_array(\n",
    "        faceDetectImage,\n",
    "        np.squeeze(boxes),\n",
    "        np.squeeze(classes).astype(np.int32),\n",
    "        np.squeeze(scores),\n",
    "        category_index,\n",
    "        use_normalized_coordinates=True,\n",
    "        line_thickness=4)\n",
    "    \n",
    "    personCount = len(faceBoxes)\n",
    "    \n",
    "    if personCount == 0:\n",
    "        shutil.copyfile(imageFile, noPersonFolder + imageFile.split(\"\\\\\")[-1])\n",
    "    elif personCount == 1:\n",
    "        shutil.copyfile(imageFile, onlyFolder + imageFile.split(\"\\\\\")[-1])\n",
    "        saveFacePath = onlyFolderFace\n",
    "    elif personCount == 2:\n",
    "        shutil.copyfile(imageFile, twoShotFolder + imageFile.split(\"\\\\\")[-1])\n",
    "        saveFacePath = twoShotFolderFace\n",
    "    else:\n",
    "        shutil.copyfile(imageFile, overThreeFolder + imageFile.split(\"\\\\\")[-1])\n",
    "        saveFacePath = overThreeFolderFace\n",
    "        \n",
    "    imageHeight, imageWidth = image.shape[:2]\n",
    "        \n",
    "    for index, box in enumerate(faceBoxes):\n",
    "        ymin, xmin, ymax, xmax = box\n",
    "        (left, right, top, bottom) = (int(xmin * imageWidth), int(xmax * imageWidth), int(ymin * imageHeight), int(ymax * imageHeight))\n",
    "        \n",
    "        cropWidth = right - left\n",
    "        cropHeight = bottom - top\n",
    "        \n",
    "        if cropHeight > cropWidth:\n",
    "            diff  = (cropHeight - cropWidth) / 2\n",
    "            if int(left - diff) < 0 or int(right + diff) > imageWidth:\n",
    "                top = int(top + diff)\n",
    "                bottom = int(bottom - diff)\n",
    "            else:\n",
    "                left = int(left - diff)\n",
    "                right = int(right + diff)\n",
    "        else:\n",
    "            diff = (cropWidth - cropHeight) / 2\n",
    "            if int(top - diff) < 0 or int(bottom + diff) > imageHeight:\n",
    "                left = int(left + diff)\n",
    "                right = int(right - diff)\n",
    "            else:\n",
    "                top = int(top - diff)\n",
    "                bottom = int(bottom + diff)\n",
    "            \n",
    "        cv2.imwrite(saveFacePath + imageFile.split(\"\\\\\")[-1].split(\".\")[0] + \"_face_\" + str(index) + \".jpg\", image[top:bottom, left:right])"
   ]
  },
  {
   "cell_type": "code",
   "execution_count": 7,
   "metadata": {},
   "outputs": [],
   "source": [
    "tDetector = TensoflowFaceDector(PATH_TO_CKPT)"
   ]
  },
  {
   "cell_type": "code",
   "execution_count": 8,
   "metadata": {},
   "outputs": [],
   "source": [
    "originFolderPath = \"../images/origin/\"\n",
    "saveFolderPath = \"../images/classification/\""
   ]
  },
  {
   "cell_type": "code",
   "execution_count": 9,
   "metadata": {},
   "outputs": [],
   "source": [
    "for memberName in os.listdir(originFolderPath):\n",
    "\n",
    "    # 必要なフォルダを作成\n",
    "    onlyFolder = saveFolderPath + memberName + \"/1_only/\"\n",
    "    twoShotFolder = saveFolderPath + memberName + \"/2_shot/\"\n",
    "    overThreeFolder = saveFolderPath + memberName + \"/3_over/\"\n",
    "    noPersonFolder = saveFolderPath + memberName + \"/others/\"\n",
    "    onlyFolderFace = saveFolderPath + memberName + \"/face/1_only/\"\n",
    "    twoShotFolderFace = saveFolderPath + memberName + \"/face/2_shot/\"\n",
    "    overThreeFolderFace = saveFolderPath + memberName + \"/face/3_over/\"\n",
    "    os.makedirs(onlyFolder, exist_ok=True)\n",
    "    os.makedirs(twoShotFolder, exist_ok=True)\n",
    "    os.makedirs(overThreeFolder, exist_ok=True)\n",
    "    os.makedirs(noPersonFolder, exist_ok=True)\n",
    "    os.makedirs(onlyFolderFace, exist_ok=True)\n",
    "    os.makedirs(twoShotFolderFace, exist_ok=True)\n",
    "    os.makedirs(overThreeFolderFace, exist_ok=True)\n",
    "    \n",
    "    fileList = glob.glob(originFolderPath + memberName + \"/*\")\n",
    "    \n",
    "    for imageFile in fileList:\n",
    "        detect_n_faces_and_copyfile(imageFile)"
   ]
  }
 ],
 "metadata": {
  "kernelspec": {
   "display_name": "Python 3",
   "language": "python",
   "name": "python3"
  },
  "language_info": {
   "codemirror_mode": {
    "name": "ipython",
    "version": 3
   },
   "file_extension": ".py",
   "mimetype": "text/x-python",
   "name": "python",
   "nbconvert_exporter": "python",
   "pygments_lexer": "ipython3",
   "version": "3.7.1"
  },
  "toc": {
   "base_numbering": 1,
   "nav_menu": {},
   "number_sections": true,
   "sideBar": true,
   "skip_h1_title": false,
   "title_cell": "Table of Contents",
   "title_sidebar": "Contents",
   "toc_cell": false,
   "toc_position": {},
   "toc_section_display": true,
   "toc_window_display": false
  },
  "widgets": {
   "state": {},
   "version": "1.1.2"
  }
 },
 "nbformat": 4,
 "nbformat_minor": 2
}
