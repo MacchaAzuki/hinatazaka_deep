{
 "cells": [
  {
   "cell_type": "code",
   "execution_count": 1,
   "metadata": {},
   "outputs": [],
   "source": [
    "import pandas as pd\n",
    "import requests\n",
    "from bs4 import BeautifulSoup\n",
    "import os\n",
    "import re\n",
    "import urllib.parse"
   ]
  },
  {
   "cell_type": "code",
   "execution_count": 2,
   "metadata": {},
   "outputs": [],
   "source": [
    "input = pd.read_csv('hinatazaka_blog.csv', encoding=\"utf8\")"
   ]
  },
  {
   "cell_type": "code",
   "execution_count": 3,
   "metadata": {},
   "outputs": [],
   "source": [
    "removeUrls =[\n",
    "    \"https://cdn.hinatazaka46.com/files/14/hinata/img/logo_side.svg\",\n",
    "    \"https://cdn.hinatazaka46.com/files/14/hinata/img/bg_ diamond.svg\",\n",
    "    \"https://cdn.hinatazaka46.com/images/14/465/4b5f71e7f4d4f0d796dbeab7159ac.jpg\",\n",
    "    \"https://cdn.hinatazaka46.com/images/14/ed9/236d2c08dbda29708de4b1f081bf3.jpg\",\n",
    "    \"https://cdn.hinatazaka46.com/images/14/c57/5453a58d5c8963c907c1b2e9c6c88.jpg\",\n",
    "    \"https://cdn.hinatazaka46.com/files/14/hinata/img/icon_logo_radius.svg\",\n",
    "    \"https://cdn.hinatazaka46.com/files/14/hinata/img/jasrac.jpg\"\n",
    "]"
   ]
  },
  {
   "cell_type": "code",
   "execution_count": null,
   "metadata": {},
   "outputs": [],
   "source": [
    "CURRENT = 'https://www.hinatazaka46.com'\n",
    "# パターンでURL識別(最後のページ用)\n",
    "pattern = \"cd=member\"\n",
    "\n",
    "for i in range(len(input)):\n",
    "    START = 'https://www.hinatazaka46.com/s/official/diary/member/list?ima=0000&page=0&cd=member&ct=' + str(input[\"ct\"][i])\n",
    "    soup = BeautifulSoup(requests.get(START).text, 'html.parser')\n",
    "    \n",
    "    # ブログページのリスト とりあえず最初のページを追加する\n",
    "    blog_pages = [START]\n",
    "    \n",
    "    URL = START\n",
    "    while True:\n",
    "        if URL != START:\n",
    "            soup = BeautifulSoup(requests.get(URL).text, 'html.parser')\n",
    "\n",
    "        links = []\n",
    "        for link in soup.findAll(\"a\"):\n",
    "            if \"/s/official/diary/member/list?ima=0000\" in link.get(\"href\"):\n",
    "                links.append(CURRENT + link.get(\"href\"))\n",
    "\n",
    "        all_loop = True\n",
    "        # 現在のページの次ページを見つける\n",
    "        for link in links:\n",
    "            URLQueryString = urllib.parse.urlparse(URL).query\n",
    "            linkQueryString = urllib.parse.urlparse(link).query\n",
    "            URLQueryString_d = urllib.parse.parse_qs(URLQueryString)\n",
    "            linkQueryString_d = urllib.parse.parse_qs(linkQueryString)\n",
    "\n",
    "            if not 'page' in linkQueryString_d.keys():\n",
    "                continue\n",
    "\n",
    "             # page=xx の部分を比較してる +1のが見つかったらblog_pagesに追加してfor抜ける\n",
    "            if int(URLQueryString_d['page'][0]) + 1 == int(linkQueryString_d['page'][0]):\n",
    "                URL = link\n",
    "                blog_pages.append(URL)\n",
    "                all_loop = False\n",
    "                break\n",
    "\n",
    "        if all_loop:\n",
    "            break\n",
    "    \n",
    "    targets = []\n",
    "    for blog_page in blog_pages:\n",
    "        soup = BeautifulSoup(requests.get(blog_page).text, 'html.parser')\n",
    "        urls = []\n",
    "        for link in soup.find_all(\"img\"):\n",
    "            if link.get(\"src\"):\n",
    "                src = link.get(\"src\")\n",
    "                urls.append(src)\n",
    "        correctUrls = [url for url in urls if url not in removeUrls]\n",
    "        targets.extend(correctUrls)\n",
    "    \n",
    "    # 重複削除\n",
    "    targets = sorted(set(targets), key=targets.index)\n",
    "    \n",
    "    folderPath = \"images/\" + input[\"name\"][i] + \"/\"\n",
    "    os.makedirs(folderPath, exist_ok=True)\n",
    "    \n",
    "    # 画像保存\n",
    "    for target in targets:\n",
    "        filePath = folderPath + target.split(\"/\")[-2] + \"_\" + target.split(\"/\")[-1]\n",
    "        if not os.path.exists(filePath):\n",
    "            with open(filePath, \"wb\") as fp:\n",
    "                res = requests.get(target)\n",
    "                fp.write(res.content)"
   ]
  }
 ],
 "metadata": {
  "kernelspec": {
   "display_name": "Python 3",
   "language": "python",
   "name": "python3"
  },
  "language_info": {
   "codemirror_mode": {
    "name": "ipython",
    "version": 3
   },
   "file_extension": ".py",
   "mimetype": "text/x-python",
   "name": "python",
   "nbconvert_exporter": "python",
   "pygments_lexer": "ipython3",
   "version": "3.7.1"
  },
  "toc": {
   "base_numbering": 1,
   "nav_menu": {},
   "number_sections": true,
   "sideBar": true,
   "skip_h1_title": false,
   "title_cell": "Table of Contents",
   "title_sidebar": "Contents",
   "toc_cell": false,
   "toc_position": {},
   "toc_section_display": true,
   "toc_window_display": false
  }
 },
 "nbformat": 4,
 "nbformat_minor": 2
}
